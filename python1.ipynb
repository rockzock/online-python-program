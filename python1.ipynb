{
 "cells": [
  {
   "cell_type": "code",
   "execution_count": 9,
   "id": "af7e7535",
   "metadata": {},
   "outputs": [
    {
     "name": "stdout",
     "output_type": "stream",
     "text": [
      "Twinkle,twinkle,little star,\n",
      "\tHow I wonderwhat you are!\n",
      "\t\tUp above the world so high,\n",
      "\t\tLike a diamond in the sky.\n",
      "Twinkle,twinkle,little star,\n",
      "\tHow I wonder what you are.\n"
     ]
    }
   ],
   "source": [
    "print(\"Twinkle,twinkle,little star,\\n\\tHow I wonderwhat you are!\\n\\t\\tUp above the world so high,\\n\\t\\tLike a diamond in the sky.\\nTwinkle,twinkle,little star,\\n\\tHow I wonder what you are.\");"
   ]
  },
  {
   "cell_type": "code",
   "execution_count": 10,
   "id": "87235ef3",
   "metadata": {},
   "outputs": [
    {
     "name": "stdout",
     "output_type": "stream",
     "text": [
      "python version 3.8.8 (default, Apr 13 2021, 15:08:03) [MSC v.1916 64 bit (AMD64)]\n"
     ]
    }
   ],
   "source": [
    "import sys\n",
    "print(\"python version\",sys.version);"
   ]
  },
  {
   "cell_type": "code",
   "execution_count": 11,
   "id": "00b9463d",
   "metadata": {},
   "outputs": [
    {
     "name": "stdout",
     "output_type": "stream",
     "text": [
      "Current date and time : \n",
      "21-10-23  11:55:43\n"
     ]
    }
   ],
   "source": [
    "import datetime\n",
    "now=datetime.datetime.now();\n",
    "print(\"Current date and time : \");\n",
    "print(now.strftime(\"%y-%m-%d  %H:%M:%S\"))"
   ]
  },
  {
   "cell_type": "code",
   "execution_count": 13,
   "id": "ef65fc66",
   "metadata": {},
   "outputs": [
    {
     "name": "stdout",
     "output_type": "stream",
     "text": [
      "Enter the radius of the circle:3\n",
      "28.278\n"
     ]
    }
   ],
   "source": [
    "r=int(input(\"Enter the radius of the circle:\"));\n",
    "area_of_circle=3.142*r*r;\n",
    "print(area_of_circle);"
   ]
  },
  {
   "cell_type": "code",
   "execution_count": 14,
   "id": "68180b5a",
   "metadata": {},
   "outputs": [
    {
     "name": "stdout",
     "output_type": "stream",
     "text": [
      "enter your first name:Abdul\n",
      "enter your last name:Haseeb\n",
      "Haseeb Abdul\n"
     ]
    }
   ],
   "source": [
    "f_name=input(\"enter your first name:\");\n",
    "l_name=input(\"enter your last name:\");\n",
    "print(l_name,f_name);"
   ]
  },
  {
   "cell_type": "code",
   "execution_count": 15,
   "id": "bb37bd84",
   "metadata": {},
   "outputs": [
    {
     "name": "stdout",
     "output_type": "stream",
     "text": [
      "Enter first number:5\n",
      "enter second number:8\n",
      "13\n"
     ]
    }
   ],
   "source": [
    "x=int(input(\"Enter first number:\"));\n",
    "y=int(input(\"enter second number:\"));\n",
    "add = x+y;\n",
    "print(add);"
   ]
  },
  {
   "cell_type": "code",
   "execution_count": 40,
   "id": "ed69c4ea",
   "metadata": {},
   "outputs": [
    {
     "name": "stdout",
     "output_type": "stream",
     "text": [
      "Enter maths marks:95\n",
      "Enter english marks:70\n",
      "Enter physics marks:85\n",
      "Enter computer marks95\n",
      "enter urdu marks:70\n",
      "percentage = \n",
      "83.0\n",
      "A+ grade\n"
     ]
    }
   ],
   "source": [
    "maths=int(input(\"Enter maths marks:\"));\n",
    "english=int(input(\"Enter english marks:\"));\n",
    "physics=int(input(\"Enter physics marks:\"));\n",
    "computer=int(input(\"Enter computer marks\"));\n",
    "urdu=int(input(\"enter urdu marks:\"));\n",
    "total=maths+english+physics+computer+urdu;\n",
    "per=(total/500)*100;\n",
    "print(\"percentage = \");\n",
    "print(per);\n",
    "if per>=80 and per<=100:\n",
    "    print(\"A+ grade\");\n",
    "elif per >= 70 and per <= 79:\n",
    "    print(\"A grade\");\n",
    "elif per>=60 and per<=69:\n",
    "    print(\"B grade\");\n",
    "elif per>=50 and per<=59:\n",
    "    print(\"C grade\");\n",
    "elif per>=40 and per<=49:\n",
    "    print(\"D grade\");\n",
    "else:\n",
    "    print(\"Fail\");"
   ]
  },
  {
   "cell_type": "code",
   "execution_count": 41,
   "id": "3d95b38d",
   "metadata": {},
   "outputs": [
    {
     "name": "stdout",
     "output_type": "stream",
     "text": [
      "Enter number:25\n",
      "Odd no\n"
     ]
    }
   ],
   "source": [
    "no = int(input(\"Enter number:\"));\n",
    "if (no%2)==0:\n",
    "    print(\"Even no\");\n",
    "else:\n",
    "    print(\"Odd no\");"
   ]
  },
  {
   "cell_type": "code",
   "execution_count": 48,
   "id": "ae60ece3",
   "metadata": {},
   "outputs": [
    {
     "name": "stdout",
     "output_type": "stream",
     "text": [
      "The lenght of my list is  5\n"
     ]
    }
   ],
   "source": [
    "mylist = [\"orange\",\"mango\",\"papaya\",\"grapes\",\"banana\"];\n",
    "print(\"The lenght of my list is \",len(mylist));"
   ]
  },
  {
   "cell_type": "code",
   "execution_count": 49,
   "id": "16be6eb0",
   "metadata": {},
   "outputs": [
    {
     "name": "stdout",
     "output_type": "stream",
     "text": [
      "Sum of list =  20\n"
     ]
    }
   ],
   "source": [
    "newlist = [1,4,6,9];\n",
    "print(\"Sum of list = \",sum(newlist));"
   ]
  },
  {
   "cell_type": "code",
   "execution_count": 52,
   "id": "1dd471ed",
   "metadata": {},
   "outputs": [
    {
     "name": "stdout",
     "output_type": "stream",
     "text": [
      "[2, 4, 6, 8, 9, 10]\n",
      "Larget number in list =  10\n"
     ]
    }
   ],
   "source": [
    "list1=[2,6,9,4,8,10];\n",
    "list1.sort();\n",
    "print(list1);\n",
    "print(\"Larget number in list = \",list1[5]);"
   ]
  },
  {
   "cell_type": "code",
   "execution_count": 57,
   "id": "090c18d0",
   "metadata": {},
   "outputs": [
    {
     "name": "stdout",
     "output_type": "stream",
     "text": [
      "[1, 1, 2, 3, 5, 8, 13, 21, 34, 55, 89]\n",
      "New list number less than 5 [1, 1, 2, 3]\n"
     ]
    }
   ],
   "source": [
    "a = [1, 1, 2, 3, 5, 8, 13, 21, 34, 55, 89];\n",
    "a.sort();\n",
    "print(a);\n",
    "if a[4] == 5:\n",
    "    print(\"New list number less than 5\",a[0:4]);"
   ]
  }
 ],
 "metadata": {
  "kernelspec": {
   "display_name": "Python 3",
   "language": "python",
   "name": "python3"
  },
  "language_info": {
   "codemirror_mode": {
    "name": "ipython",
    "version": 3
   },
   "file_extension": ".py",
   "mimetype": "text/x-python",
   "name": "python",
   "nbconvert_exporter": "python",
   "pygments_lexer": "ipython3",
   "version": "3.8.8"
  }
 },
 "nbformat": 4,
 "nbformat_minor": 5
}
